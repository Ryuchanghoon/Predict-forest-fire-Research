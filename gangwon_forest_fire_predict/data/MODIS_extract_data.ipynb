{
  "cells": [
    {
      "cell_type": "code",
      "execution_count": 1,
      "metadata": {
        "id": "GA4kGQXdYAIh"
      },
      "outputs": [],
      "source": [
        "import ee\n",
        "import geemap\n",
        "import os\n",
        "\n",
        "\n",
        "\n",
        "os.environ['EARTHENGINE_API_KEY'] = '########'\n",
        "\n",
        "ee.Authenticate()\n",
        "ee.Initialize(project='#####')"
      ]
    },
    {
      "cell_type": "code",
      "execution_count": null,
      "metadata": {
        "colab": {
          "base_uri": "https://localhost:8080/",
          "height": 149
        },
        "id": "J5WQs0uPdCOV",
        "outputId": "842dc0ba-9211-4c9a-bfe4-d7d69f8d9249"
      },
      "outputs": [],
      "source": [
        "image_collection = ee.ImageCollection('MODIS/061/MOD09A1')\\\n",
        "           .filterDate('2012-04-17', '2012-04-18')  # 날짜 필터링\n",
        "\n",
        "# 지정 기간 이미지 median 합성\n",
        "median_image = image_collection.median()\n",
        "\n",
        "\n",
        "if image_collection.size().getInfo() == 0:\n",
        "    print(\"Images NOT found\")\n",
        "\n",
        "else:\n",
        "\n",
        "    center_lat = 38.17\n",
        "    center_lon = 128.01\n",
        "    buffer_size = 0.1  # 0.1 ==> 대강 20km x 20km (1도는 대강 111km)\n",
        "\n",
        "    roi = ee.Geometry.Rectangle([center_lon - buffer_size, center_lat - buffer_size,\n",
        "                                 center_lon + buffer_size, center_lat + buffer_size])\n",
        "\n",
        "    \n",
        "    if median_image.bandNames().size().getInfo() == 0:\n",
        "        print(\"No bands\")\n",
        "    \n",
        "    else:\n",
        "        clipped_image = median_image.clip(roi)\n",
        "\n",
        "        tile_file = 'MODIS_report_18.tif'\n",
        "\n",
        "        try:\n",
        "            geemap.ee_export_image(clipped_image, filename=tile_file, scale=500, region=roi, file_per_band=False) # Scale value lower, IMG Quality higher\n",
        "            print(f\"Image exported successfully as {tile_file}.\")\n",
        "        except Exception as e:\n",
        "            print(f\"Failed to export image: {e}\")\n",
        "\n",
        "        print(\"Saving Image Complete\")"
      ]
    },
    {
      "cell_type": "code",
      "execution_count": null,
      "metadata": {
        "id": "JT8KbeoiquK7"
      },
      "outputs": [],
      "source": []
    }
  ],
  "metadata": {
    "colab": {
      "provenance": []
    },
    "kernelspec": {
      "display_name": "Python 3",
      "name": "python3"
    },
    "language_info": {
      "name": "python"
    }
  },
  "nbformat": 4,
  "nbformat_minor": 0
}
